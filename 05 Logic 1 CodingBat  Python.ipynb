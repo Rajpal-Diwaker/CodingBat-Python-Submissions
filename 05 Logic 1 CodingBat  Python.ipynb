{
 "cells": [
  {
   "cell_type": "markdown",
   "metadata": {},
   "source": [
    "### love6 Challange Solution | Logic-1 | CodingBat | Python"
   ]
  },
  {
   "cell_type": "code",
   "execution_count": 4,
   "metadata": {},
   "outputs": [
    {
     "data": {
      "text/plain": [
       "True"
      ]
     },
     "execution_count": 4,
     "metadata": {},
     "output_type": "execute_result"
    }
   ],
   "source": [
    "#Given two int values, a and b, return True if either one is 6. Or if their sum or difference is 6.\n",
    "\n",
    "def love6(a, b):\n",
    "    if a==6 or b==6 or a+b== 6 or abs(a-b)==6:\n",
    "        return True\n",
    "    else:\n",
    "        return False\n",
    "    \n",
    "love6(6, 4)"
   ]
  },
  {
   "cell_type": "markdown",
   "metadata": {},
   "source": [
    "### in1to10 Challange Solution | Logic-1  | CodingBat | Python"
   ]
  },
  {
   "cell_type": "code",
   "execution_count": null,
   "metadata": {},
   "outputs": [],
   "source": [
    "#Given a number n,return True if n is in the range 1..10, inclusive.Unless outside_mode is True,in which case return True \n",
    "#if the number is less or equal to 1, or greater or equal to 10.\n",
    "\n",
    "def in1to10(n, outside_mode):\n",
    "    if outside_mode==True and (n<=1 or n>=10):\n",
    "        return True\n",
    "    elif outside_mode==False and n>=1 and n<=10:\n",
    "        return True\n",
    "    else:\n",
    "        return False\n",
    "    \n",
    "in1to10(10, False)"
   ]
  },
  {
   "cell_type": "markdown",
   "metadata": {},
   "source": [
    "### alarm_clock Challange Solution | Logic-1  | CodingBat | Python"
   ]
  },
  {
   "cell_type": "code",
   "execution_count": 1,
   "metadata": {},
   "outputs": [
    {
     "data": {
      "text/plain": [
       "'off'"
      ]
     },
     "execution_count": 1,
     "metadata": {},
     "output_type": "execute_result"
    }
   ],
   "source": [
    "#Given a day of the week encoded as 0=Sun, 1=Mon, 2=Tue, ...6=Sat, and a boolean indicating if we are on vacation,return a\n",
    "#string of the form \"7:00\" indicating when the alarm clock should ring. Weekdays, the alarm should be \"7:00\" and on the weekend\n",
    "#it should be \"10:00\". Unless we are on vacation -- then on weekdays it should be \"10:00\" and weekends it should be \"off\".\n",
    "\n",
    "def alarm_clock(day, vacation):\n",
    "    if day in range(1,6) and vacation==False:\n",
    "        return '7:00'\n",
    "    elif day in [0,6] and vacation==True:\n",
    "        return 'off'\n",
    "    else:\n",
    "        return '10:00'\n",
    "\n",
    "alarm_clock(0, True)    "
   ]
  },
  {
   "cell_type": "markdown",
   "metadata": {},
   "source": [
    "### end_other Challange Solution | Logic-1  | CodingBat | Python"
   ]
  },
  {
   "cell_type": "code",
   "execution_count": null,
   "metadata": {},
   "outputs": [],
   "source": []
  },
  {
   "cell_type": "code",
   "execution_count": null,
   "metadata": {},
   "outputs": [],
   "source": []
  }
 ],
 "metadata": {
  "kernelspec": {
   "display_name": "Python 3",
   "language": "python",
   "name": "python3"
  },
  "language_info": {
   "codemirror_mode": {
    "name": "ipython",
    "version": 3
   },
   "file_extension": ".py",
   "mimetype": "text/x-python",
   "name": "python",
   "nbconvert_exporter": "python",
   "pygments_lexer": "ipython3",
   "version": "3.7.6"
  }
 },
 "nbformat": 4,
 "nbformat_minor": 4
}
