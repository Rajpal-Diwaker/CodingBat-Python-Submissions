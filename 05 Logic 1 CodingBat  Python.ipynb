{
 "cells": [
  {
   "cell_type": "markdown",
   "metadata": {},
   "source": [
    "### love6 Challange Solution | Logic-1 | CodingBat | Python"
   ]
  },
  {
   "cell_type": "code",
   "execution_count": 4,
   "metadata": {},
   "outputs": [
    {
     "data": {
      "text/plain": [
       "True"
      ]
     },
     "execution_count": 4,
     "metadata": {},
     "output_type": "execute_result"
    }
   ],
   "source": [
    "#Given two int values, a and b, return True if either one is 6. Or if their sum or difference is 6.\n",
    "\n",
    "def love6(a, b):\n",
    "    if a==6 or b==6 or a+b== 6 or abs(a-b)==6:\n",
    "        return True\n",
    "    else:\n",
    "        return False\n",
    "    \n",
    "love6(6, 4)"
   ]
  },
  {
   "cell_type": "markdown",
   "metadata": {},
   "source": [
    "### in1to10 Challange Solution | Logic-1  | CodingBat | Python"
   ]
  },
  {
   "cell_type": "code",
   "execution_count": null,
   "metadata": {},
   "outputs": [],
   "source": [
    "#Given a number n,return True if n is in the range 1..10, inclusive.Unless outside_mode is True,in which case return True \n",
    "#if the number is less or equal to 1, or greater or equal to 10.\n",
    "\n",
    "def in1to10(n, outside_mode):\n",
    "    if outside_mode==True and (n<=1 or n>=10):\n",
    "        return True\n",
    "    elif outside_mode==False and n>=1 and n<=10:\n",
    "        return True\n",
    "    else:\n",
    "        return False\n",
    "    \n",
    "in1to10(10, False)"
   ]
  },
  {
   "cell_type": "markdown",
   "metadata": {},
   "source": [
    "### alarm_clock Challange Solution | Logic-1  | CodingBat | Python"
   ]
  },
  {
   "cell_type": "code",
   "execution_count": 1,
   "metadata": {},
   "outputs": [
    {
     "data": {
      "text/plain": [
       "'off'"
      ]
     },
     "execution_count": 1,
     "metadata": {},
     "output_type": "execute_result"
    }
   ],
   "source": [
    "#Given a day of the week encoded as 0=Sun, 1=Mon, 2=Tue, ...6=Sat, and a boolean indicating if we are on vacation,return a\n",
    "#string of the form \"7:00\" indicating when the alarm clock should ring. Weekdays, the alarm should be \"7:00\" and on the weekend\n",
    "#it should be \"10:00\". Unless we are on vacation -- then on weekdays it should be \"10:00\" and weekends it should be \"off\".\n",
    "\n",
    "def alarm_clock(day, vacation):\n",
    "    if day in range(1,6) and vacation==False:\n",
    "        return '7:00'\n",
    "    elif day in [0,6] and vacation==True:\n",
    "        return 'off'\n",
    "    else:\n",
    "        return '10:00'\n",
    "\n",
    "alarm_clock(0, True)    "
   ]
  },
  {
   "cell_type": "markdown",
   "metadata": {},
   "source": [
    "### cigar_party Challange Solution | Logic-1  | CodingBat | Python"
   ]
  },
  {
   "cell_type": "code",
   "execution_count": 4,
   "metadata": {},
   "outputs": [
    {
     "data": {
      "text/plain": [
       "True"
      ]
     },
     "execution_count": 4,
     "metadata": {},
     "output_type": "execute_result"
    }
   ],
   "source": [
    "#When squirrels get together for a party, they like to have cigars. A squirrel party is successful when the number of cigars \n",
    "#is between 40 and 60, inclusive. Unless it is the weekend, in which case there is no upper bound on the number of cigars. \n",
    "#Return True if the party with the given values is successful, or False otherwise.\n",
    "\n",
    "def cigar_party(cigars, is_weekend):\n",
    "    if is_weekend==False and cigars>=40 and cigars<=60:\n",
    "        return True\n",
    "    elif is_weekend==True and cigars>=40:\n",
    "        return True\n",
    "    else:\n",
    "        return False\n",
    "\n",
    "cigar_party(50, False)"
   ]
  },
  {
   "cell_type": "markdown",
   "metadata": {},
   "source": [
    "### squirrel_play Challange Solution | Logic-1  | CodingBat | Python"
   ]
  },
  {
   "cell_type": "code",
   "execution_count": 1,
   "metadata": {},
   "outputs": [
    {
     "data": {
      "text/plain": [
       "True"
      ]
     },
     "execution_count": 1,
     "metadata": {},
     "output_type": "execute_result"
    }
   ],
   "source": [
    "#The squirrels play if the temperature is between 60 and 90 (inclusive).Unless it is summer, then the upper limit is 100 \n",
    "#instead of 90. Given an int temperature and a boolean is_summer, return True if the squirrels play and False otherwise\n",
    "\n",
    "def squirrel_play(temp, is_summer):\n",
    "    if is_summer==False and temp>=60 and temp<=90:\n",
    "        return True\n",
    "    elif is_summer==True and temp>=60 and temp<=100:\n",
    "        return True\n",
    "    else:\n",
    "        return False\n",
    "    \n",
    "squirrel_play(70, False)"
   ]
  },
  {
   "cell_type": "markdown",
   "metadata": {},
   "source": [
    "### caught_speeding Challange Solution | Logic-1  | CodingBat | Python"
   ]
  },
  {
   "cell_type": "code",
   "execution_count": 5,
   "metadata": {},
   "outputs": [
    {
     "data": {
      "text/plain": [
       "1"
      ]
     },
     "execution_count": 5,
     "metadata": {},
     "output_type": "execute_result"
    }
   ],
   "source": [
    "#You are driving a little fast,and a police officer stops you.Write code to compute result,encoded as an int value:0=no ticket,\n",
    "#1=small ticket, 2=big ticket. If speed is 60 or less, the result is 0.If speed is between 61 and 80 inclusive, the result is 1.\n",
    "#If speed is 81 or more, the result is 2. Unless it is your birthday -- on that day, your speed can be 5 higher in all cases.\n",
    "\n",
    "\n",
    "def caught_speeding(speed, is_birthday):\n",
    "    if is_birthday == False and speed<=60:\n",
    "        return 0\n",
    "    if is_birthday == False and speed>60 and speed<=80:\n",
    "        return 1\n",
    "    if is_birthday == False and speed>80:\n",
    "        return 2\n",
    "    if is_birthday == True and speed<=65:\n",
    "        return 0\n",
    "    if is_birthday == True and speed>65 and speed<=85:\n",
    "        return 1\n",
    "    if is_birthday == True and speed>85:\n",
    "        return 2\n",
    "    \n",
    "caught_speeding(65, False) "
   ]
  },
  {
   "cell_type": "markdown",
   "metadata": {},
   "source": [
    "### sorta_sum Challange Solution | Logic-1  | CodingBat | Python"
   ]
  },
  {
   "cell_type": "code",
   "execution_count": 6,
   "metadata": {},
   "outputs": [
    {
     "data": {
      "text/plain": [
       "20"
      ]
     },
     "execution_count": 6,
     "metadata": {},
     "output_type": "execute_result"
    }
   ],
   "source": [
    "#Given 2 ints, a and b,return their sum.But sums in the range 10..19 inclusive, are forbidden, so in that case just return 20.\n",
    "\n",
    "def sorta_sum(a, b):\n",
    "    if a+b in range(10,20):\n",
    "        return 20\n",
    "    else:\n",
    "        return a+b\n",
    "\n",
    "sorta_sum(9, 4)"
   ]
  },
  {
   "cell_type": "markdown",
   "metadata": {},
   "source": [
    "### date_fashion Challange Solution | Logic-1  | CodingBat | Python"
   ]
  },
  {
   "cell_type": "code",
   "execution_count": 9,
   "metadata": {},
   "outputs": [
    {
     "data": {
      "text/plain": [
       "0"
      ]
     },
     "execution_count": 9,
     "metadata": {},
     "output_type": "execute_result"
    }
   ],
   "source": [
    "#You and your date are trying to get a table at a restaurant. The parameter \"you\" is the stylishness of your clothes, in the \n",
    "#range 0..10, and \"date\" is the stylishness of your date's clothes. The result getting the table is encoded as an int value \n",
    "#with 0=no, 1=maybe, 2=yes. If either of you is very stylish, 8 or more, then the result is 2 (yes). With the exception that \n",
    "#if either of you has style of 2 or less, then the result is 0 (no). Otherwise the result is 1 (maybe).\n",
    "\n",
    "def date_fashion(you, date):\n",
    "    if you<=2 or date<=2:\n",
    "        return 0\n",
    "    elif you>=8 or date>=8:\n",
    "        return 2\n",
    "    else:\n",
    "        return 1\n",
    "\n",
    "date_fashion(10, 2)"
   ]
  },
  {
   "cell_type": "markdown",
   "metadata": {},
   "source": [
    "### near_ten Challange Solution | Logic-1  | CodingBat | Python"
   ]
  },
  {
   "cell_type": "code",
   "execution_count": 13,
   "metadata": {},
   "outputs": [
    {
     "data": {
      "text/plain": [
       "True"
      ]
     },
     "execution_count": 13,
     "metadata": {},
     "output_type": "execute_result"
    }
   ],
   "source": [
    "#Given a non-negative number \"num\", return True if num is within 2 of a multiple of 10.\n",
    "\n",
    "def near_ten(num):\n",
    "    if abs(num%10) in [9,8,0,1,2]:\n",
    "        return True\n",
    "    else:\n",
    "        return False\n",
    "    \n",
    "near_ten(158)"
   ]
  },
  {
   "cell_type": "markdown",
   "metadata": {},
   "source": [
    "### array_front9 Challange Solution | Logic-1  | CodingBat | Python"
   ]
  },
  {
   "cell_type": "code",
   "execution_count": 12,
   "metadata": {},
   "outputs": [
    {
     "data": {
      "text/plain": [
       "True"
      ]
     },
     "execution_count": 12,
     "metadata": {},
     "output_type": "execute_result"
    }
   ],
   "source": [
    "#Given an array of ints, return True if one of the first 4 elements in the array is a 9. The array length may be less than 4.\n",
    "\n",
    "def array_front9(nums):\n",
    "    end = len(nums)\n",
    "    if len(nums)> 4:\n",
    "        end = 4\n",
    "\n",
    "    for i in range(end):\n",
    "        if nums[i] == 9:\n",
    "            return True\n",
    "    return False\n",
    "\n",
    "array_front9([9, 2, 3])"
   ]
  },
  {
   "cell_type": "code",
   "execution_count": null,
   "metadata": {},
   "outputs": [],
   "source": []
  }
 ],
 "metadata": {
  "kernelspec": {
   "display_name": "Python 3",
   "language": "python",
   "name": "python3"
  },
  "language_info": {
   "codemirror_mode": {
    "name": "ipython",
    "version": 3
   },
   "file_extension": ".py",
   "mimetype": "text/x-python",
   "name": "python",
   "nbconvert_exporter": "python",
   "pygments_lexer": "ipython3",
   "version": "3.7.6"
  }
 },
 "nbformat": 4,
 "nbformat_minor": 4
}
