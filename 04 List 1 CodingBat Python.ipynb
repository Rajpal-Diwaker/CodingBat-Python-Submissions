{
 "cells": [
  {
   "cell_type": "markdown",
   "metadata": {},
   "source": [
    "### reverse3 Challange Solution | List 1 | CodingBat | Python"
   ]
  },
  {
   "cell_type": "code",
   "execution_count": 3,
   "metadata": {},
   "outputs": [
    {
     "data": {
      "text/plain": [
       "[9, 11, 5]"
      ]
     },
     "execution_count": 3,
     "metadata": {},
     "output_type": "execute_result"
    }
   ],
   "source": [
    "#Given an array of ints length 3, return a new array with the elements in reverse order, so {1, 2, 3} becomes {3, 2, 1}.\n",
    "\n",
    "def reverse3(nums):\n",
    "    nums.reverse()\n",
    "    return nums\n",
    "\n",
    "reverse3([5, 11, 9])"
   ]
  },
  {
   "cell_type": "markdown",
   "metadata": {},
   "source": [
    "### sum3 Challange Solution | List 1 | CodingBat | Python"
   ]
  },
  {
   "cell_type": "code",
   "execution_count": 4,
   "metadata": {},
   "outputs": [
    {
     "data": {
      "text/plain": [
       "6"
      ]
     },
     "execution_count": 4,
     "metadata": {},
     "output_type": "execute_result"
    }
   ],
   "source": [
    "#Given an array of ints length 3, return the sum of all the elements.\n",
    "\n",
    "def sum3(nums):\n",
    "    return sum(nums)\n",
    "\n",
    "sum3([1, 2, 3])"
   ]
  },
  {
   "cell_type": "markdown",
   "metadata": {},
   "source": [
    "### sum2 Challange Solution | List 1 | CodingBat | Python"
   ]
  },
  {
   "cell_type": "code",
   "execution_count": 5,
   "metadata": {},
   "outputs": [
    {
     "data": {
      "text/plain": [
       "3"
      ]
     },
     "execution_count": 5,
     "metadata": {},
     "output_type": "execute_result"
    }
   ],
   "source": [
    "#Given an array of ints, return the sum of the first 2 elements in the array. If the array length is less than 2, just sum up\n",
    "#the elements that exist, returning 0 if the array is length 0.\n",
    "\n",
    "def sum2(nums):\n",
    "    if len(nums)<1:\n",
    "        return 0\n",
    "    elif len(nums)==1:\n",
    "        return nums[0]\n",
    "    else:\n",
    "        return nums[0]+nums[1]\n",
    "    \n",
    "sum2([1, 2, 3])"
   ]
  },
  {
   "cell_type": "markdown",
   "metadata": {},
   "source": [
    "### has23 Challange Solution | List 1 | CodingBat | Python"
   ]
  },
  {
   "cell_type": "code",
   "execution_count": 6,
   "metadata": {},
   "outputs": [
    {
     "data": {
      "text/plain": [
       "True"
      ]
     },
     "execution_count": 6,
     "metadata": {},
     "output_type": "execute_result"
    }
   ],
   "source": [
    "#Given an int array length 2, return True if it contains a 2 or a 3.\n",
    "\n",
    "def has23(nums):\n",
    "    for i in nums:\n",
    "        if i == 2 or i ==3:\n",
    "            return True\n",
    "    return False\n",
    "\n",
    "has23([4, 3])"
   ]
  },
  {
   "cell_type": "markdown",
   "metadata": {},
   "source": [
    "### first_last6 Challange Solution | List 1 | CodingBat | Python"
   ]
  },
  {
   "cell_type": "code",
   "execution_count": 1,
   "metadata": {},
   "outputs": [
    {
     "data": {
      "text/plain": [
       "True"
      ]
     },
     "execution_count": 1,
     "metadata": {},
     "output_type": "execute_result"
    }
   ],
   "source": [
    "#Given an array of ints, return True if 6 appears as either the first or last element in the array.array length is 1 or more.\n",
    "\n",
    "def first_last6(nums):\n",
    "    if len(nums)==1 and nums[0]==6:\n",
    "        return True\n",
    "    elif len(nums)>1 and (nums[0]==6 or nums[-1]==6):\n",
    "        return True\n",
    "    else:\n",
    "        return False\n",
    "\n",
    "first_last6([6, 1, 2, 3])"
   ]
  },
  {
   "cell_type": "markdown",
   "metadata": {},
   "source": [
    "### same_first_last Challange Solution | List 1 | CodingBat | Python"
   ]
  },
  {
   "cell_type": "code",
   "execution_count": 3,
   "metadata": {},
   "outputs": [
    {
     "data": {
      "text/plain": [
       "True"
      ]
     },
     "execution_count": 3,
     "metadata": {},
     "output_type": "execute_result"
    }
   ],
   "source": [
    "#Given an array of ints, return True if the array is length 1 or more, and the first element and the last element are equal.\n",
    "\n",
    "def same_first_last(nums):\n",
    "    if len(nums)==1:\n",
    "        return True\n",
    "    elif len(nums)>1 and nums[0]==nums[-1]:\n",
    "        return True\n",
    "    else:\n",
    "        return False\n",
    "    \n",
    "same_first_last([1, 2, 3, 1]) "
   ]
  },
  {
   "cell_type": "markdown",
   "metadata": {},
   "source": [
    "### common_end Challange Solution | List 1 | CodingBat | Python"
   ]
  },
  {
   "cell_type": "code",
   "execution_count": 5,
   "metadata": {},
   "outputs": [
    {
     "data": {
      "text/plain": [
       "True"
      ]
     },
     "execution_count": 5,
     "metadata": {},
     "output_type": "execute_result"
    }
   ],
   "source": [
    "#Given 2 arrays of ints,return True if they have the same first or last element. Both arrays will be length 1 or more.\n",
    "\n",
    "def common_end(a, b):\n",
    "    if len(a)==len(b)==1 and a[0]==b[0]:\n",
    "        return True\n",
    "    elif len(a)>1 and len(b)>1 and (a[0]==b[0] or a[-1]==b[-1]):\n",
    "        return True\n",
    "    elif len(a)>1 and len(b)==1 and (a[0]==b[0] or a[-1]==b[0]):\n",
    "        return True\n",
    "    elif len(b)>1 and len(a)==1 and (a[0]==b[0] or a[0]==b[-1]):\n",
    "        return True\n",
    "    else:\n",
    "        return False\n",
    "    \n",
    "common_end([1, 2, 3], [1])"
   ]
  },
  {
   "cell_type": "markdown",
   "metadata": {},
   "source": [
    "### max_end3 Challange Solution | List 1 | CodingBat | Python"
   ]
  },
  {
   "cell_type": "code",
   "execution_count": 8,
   "metadata": {},
   "outputs": [
    {
     "data": {
      "text/plain": [
       "[11, 11, 11]"
      ]
     },
     "execution_count": 8,
     "metadata": {},
     "output_type": "execute_result"
    }
   ],
   "source": [
    "#Given an array of ints length 3, figure out which is larger, the first or last element in the array, and set all the \n",
    "#other elements to be that value. Return the changed array.\n",
    "\n",
    "#special case: no loops-length 3\n",
    "def max_end3(nums):\n",
    "    if nums[0]>nums[-1]:\n",
    "        nums[1]=nums[0]\n",
    "        nums[2]=nums[0]\n",
    "        return nums\n",
    "    elif nums[-1]>nums[0]:\n",
    "        nums[0]=nums[-1]\n",
    "        nums[1]=nums[-1]\n",
    "        return nums\n",
    "    elif nums[0]==nums[-1]:\n",
    "        nums[1]=nums[0]\n",
    "        return nums\n",
    "\n",
    "#genral case\n",
    "def max_end3(nums):\n",
    "    m=max(nums)\n",
    "    for i in range(len(nums)):\n",
    "        nums[i]=m\n",
    "    return nums\n",
    "\n",
    "max_end3([11, 3, 3])"
   ]
  },
  {
   "cell_type": "markdown",
   "metadata": {},
   "source": [
    "### make_ends Challange Solution | List 1 | CodingBat | Python"
   ]
  },
  {
   "cell_type": "code",
   "execution_count": 1,
   "metadata": {},
   "outputs": [
    {
     "data": {
      "text/plain": [
       "[7, 2]"
      ]
     },
     "execution_count": 1,
     "metadata": {},
     "output_type": "execute_result"
    }
   ],
   "source": [
    "#Given an array of ints,return new array length 2 containing the first and last elements from original array(length 1 or more)\n",
    "\n",
    "def make_ends(nums):\n",
    "    l1=[]\n",
    "    if len(nums)==1:\n",
    "        l1.append(nums[0])\n",
    "        l1.append(nums[0])\n",
    "        return l1\n",
    "    if len(nums)>1:\n",
    "        l1.append(nums[0])\n",
    "        l1.append(nums[-1])\n",
    "        return l1\n",
    "\n",
    "make_ends([7, 4, 6, 2])    "
   ]
  },
  {
   "cell_type": "markdown",
   "metadata": {},
   "source": [
    "### make_pi Challange Solution | List 1 | CodingBat | Python"
   ]
  },
  {
   "cell_type": "code",
   "execution_count": 3,
   "metadata": {},
   "outputs": [
    {
     "data": {
      "text/plain": [
       "[3, 1, 4]"
      ]
     },
     "execution_count": 3,
     "metadata": {},
     "output_type": "execute_result"
    }
   ],
   "source": [
    "#Return an int array length 3 containing the first 3 digits of pi, {3, 1, 4}.\n",
    "\n",
    "def make_pi():\n",
    "    return [3,1,4]\n",
    "\n",
    "\n",
    "make_pi()"
   ]
  },
  {
   "cell_type": "markdown",
   "metadata": {},
   "source": [
    "### rotate_left3 Challange Solution | List 1 | CodingBat | Python"
   ]
  },
  {
   "cell_type": "code",
   "execution_count": 5,
   "metadata": {},
   "outputs": [
    {
     "data": {
      "text/plain": [
       "[11, 9, 5]"
      ]
     },
     "execution_count": 5,
     "metadata": {},
     "output_type": "execute_result"
    }
   ],
   "source": [
    "#Given an array of ints length 3, return an array with the elements \"rotated left\" so {1, 2, 3} yields {2, 3, 1}.\n",
    "\n",
    "def rotate_left3(nums):\n",
    "    n1=[nums[1],nums[2],nums[0]]\n",
    "    return n1\n",
    "  \n",
    "  \n",
    "rotate_left3([5, 11, 9])"
   ]
  },
  {
   "cell_type": "markdown",
   "metadata": {},
   "source": [
    "### middle_way Challange Solution | List 1 | CodingBat | Python"
   ]
  },
  {
   "cell_type": "code",
   "execution_count": 6,
   "metadata": {},
   "outputs": [
    {
     "data": {
      "text/plain": [
       "[2, 5]"
      ]
     },
     "execution_count": 6,
     "metadata": {},
     "output_type": "execute_result"
    }
   ],
   "source": [
    "#Given 2 int arrays, a and b, each length 3, return a new array length 2 containing their middle elements.\n",
    "\n",
    "def middle_way(a, b):\n",
    "    c=[a[1],b[1]]\n",
    "    return c\n",
    "  \n",
    "middle_way([1, 2, 3], [4, 5, 6])"
   ]
  },
  {
   "cell_type": "code",
   "execution_count": null,
   "metadata": {},
   "outputs": [],
   "source": []
  }
 ],
 "metadata": {
  "kernelspec": {
   "display_name": "Python 3",
   "language": "python",
   "name": "python3"
  },
  "language_info": {
   "codemirror_mode": {
    "name": "ipython",
    "version": 3
   },
   "file_extension": ".py",
   "mimetype": "text/x-python",
   "name": "python",
   "nbconvert_exporter": "python",
   "pygments_lexer": "ipython3",
   "version": "3.7.6"
  }
 },
 "nbformat": 4,
 "nbformat_minor": 4
}
