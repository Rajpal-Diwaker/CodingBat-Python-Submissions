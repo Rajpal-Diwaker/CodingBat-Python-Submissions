{
 "cells": [
  {
   "cell_type": "markdown",
   "metadata": {},
   "source": [
    "### no_teen_sum Challange Solution | Logic-2 | CodingBat | Python"
   ]
  },
  {
   "cell_type": "code",
   "execution_count": 3,
   "metadata": {},
   "outputs": [
    {
     "data": {
      "text/plain": [
       "16"
      ]
     },
     "execution_count": 3,
     "metadata": {},
     "output_type": "execute_result"
    }
   ],
   "source": [
    "#Given 3 int values, a b c, return their sum.if any of the values is a teen -- in the range 13..19 inclusive -- then that\n",
    "#value counts as 0, except 15 and 16 do not count as a teens. \n",
    "\n",
    "def no_teen_sum(a, b, c):\n",
    "    flag1=flag2=flag3=0\n",
    "    \n",
    "    if a==13 or a==14 or a==17 or a==18 or a==19:\n",
    "        flag1=1\n",
    "    if b==13 or b==14 or b==17 or b==18 or b==19:\n",
    "        flag2=1\n",
    "    if c==13 or c==14 or c==17 or c==18 or c==19:\n",
    "        flag3=1\n",
    "\n",
    "    if flag1==1 and flag2==1 and flag3==1:\n",
    "        return 0\n",
    "    elif flag1==1 and flag2==1 and flag3==0:\n",
    "        return c\n",
    "    elif flag1==1 and flag2==0 and flag3==0:\n",
    "        return b+c\n",
    "    elif flag1==0 and flag2==0 and flag3==0:\n",
    "        return a+b+c\n",
    "    elif flag1==0 and flag2==1 and flag3==0:\n",
    "        return a+c\n",
    "    elif flag1==1 and flag2==0 and flag3==1:\n",
    "        return b\n",
    "    elif flag1==0 and flag2==1 and flag3==1:\n",
    "        return a\n",
    "    elif flag1==0 and flag2==0 and flag3==1:\n",
    "        return a+b\n",
    "    else:\n",
    "        return 0\n",
    "no_teen_sum(17, 18, 16)"
   ]
  },
  {
   "cell_type": "markdown",
   "metadata": {},
   "source": [
    "### lone_sum Challange Solution | Logic-2 | CodingBat | Python"
   ]
  },
  {
   "cell_type": "code",
   "execution_count": 2,
   "metadata": {},
   "outputs": [
    {
     "data": {
      "text/plain": [
       "9"
      ]
     },
     "execution_count": 2,
     "metadata": {},
     "output_type": "execute_result"
    }
   ],
   "source": [
    "#Given 3 int values, a b c,return their sum. if one of the values is the same as the another,it does'nt count towards the sum.\n",
    "\n",
    "def lone_sum(a, b, c):\n",
    "  \n",
    "  if a==b and b==c and a==c:\n",
    "    return 0\n",
    "  elif a==c:\n",
    "    return b\n",
    "  elif b==c:\n",
    "    return a\n",
    "  elif a==b:\n",
    "    return c\n",
    "  else:\n",
    "    return a+b+c\n",
    "\n",
    "lone_sum(2, 9, 2)"
   ]
  },
  {
   "cell_type": "markdown",
   "metadata": {},
   "source": [
    "### lucky_sum Challange Solution | Logic-1 | CodingBat | Python"
   ]
  },
  {
   "cell_type": "code",
   "execution_count": 2,
   "metadata": {},
   "outputs": [
    {
     "data": {
      "text/plain": [
       "1"
      ]
     },
     "execution_count": 2,
     "metadata": {},
     "output_type": "execute_result"
    }
   ],
   "source": [
    "#Given 3 int values, a b c, return their sum. if one of the values is 13 then it does not count towards the sum and values to \n",
    "#its right do not count. So for example, if b is 13, then both b and c do not count.\n",
    "\n",
    "def lucky_sum(a, b, c):\n",
    "    if a==13:\n",
    "        return 0\n",
    "    elif b==13:\n",
    "        return a\n",
    "    elif c==13:\n",
    "        return a+b\n",
    "    else:\n",
    "        return a+b+c \n",
    "\n",
    "lucky_sum(1, 13, 3)"
   ]
  },
  {
   "cell_type": "code",
   "execution_count": null,
   "metadata": {},
   "outputs": [],
   "source": [
    "### lucky_sum Challange Solution | Logic-1 | CodingBat | Python"
   ]
  },
  {
   "cell_type": "code",
   "execution_count": null,
   "metadata": {},
   "outputs": [],
   "source": []
  }
 ],
 "metadata": {
  "kernelspec": {
   "display_name": "Python 3",
   "language": "python",
   "name": "python3"
  },
  "language_info": {
   "codemirror_mode": {
    "name": "ipython",
    "version": 3
   },
   "file_extension": ".py",
   "mimetype": "text/x-python",
   "name": "python",
   "nbconvert_exporter": "python",
   "pygments_lexer": "ipython3",
   "version": "3.7.6"
  }
 },
 "nbformat": 4,
 "nbformat_minor": 4
}
