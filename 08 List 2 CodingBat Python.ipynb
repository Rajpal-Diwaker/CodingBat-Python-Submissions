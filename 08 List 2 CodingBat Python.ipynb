{
 "cells": [
  {
   "cell_type": "markdown",
   "metadata": {},
   "source": [
    "### count_evens Challange Solution | List 2 | CodingBat | Python"
   ]
  },
  {
   "cell_type": "code",
   "execution_count": 2,
   "metadata": {},
   "outputs": [
    {
     "data": {
      "text/plain": [
       "3"
      ]
     },
     "execution_count": 2,
     "metadata": {},
     "output_type": "execute_result"
    }
   ],
   "source": [
    "#Return the number of even ints in the given array. Note: the % \"mod\" operator computes the remainder, e.g. 5 % 2 is 1.\n",
    "\n",
    "def count_evens(nums):\n",
    "    l1=[]\n",
    "    for i in nums:\n",
    "        if i%2==0:\n",
    "            l1.append(i)\n",
    "        else:\n",
    "            pass\n",
    "    return len(l1)\n",
    "\n",
    "#l1=[l1.append(i) for i in nums if i%2==0]\n",
    "count_evens([2, 1, 2, 3, 4])"
   ]
  },
  {
   "cell_type": "markdown",
   "metadata": {},
   "source": [
    "### big_diff Challange Solution | List 2 | CodingBat | Python"
   ]
  },
  {
   "cell_type": "code",
   "execution_count": 5,
   "metadata": {},
   "outputs": [
    {
     "data": {
      "text/plain": [
       "8"
      ]
     },
     "execution_count": 5,
     "metadata": {},
     "output_type": "execute_result"
    }
   ],
   "source": [
    "#Given an array length 1 or more of ints, return the difference between the largest and smallest values in the array.\n",
    "\n",
    "def big_diff(nums):\n",
    "    return max(nums)-min(nums)\n",
    "\n",
    "big_diff([7, 2, 10, 9])"
   ]
  },
  {
   "cell_type": "markdown",
   "metadata": {},
   "source": [
    "### centered_average Challange Solution | List 2 | CodingBat | Python"
   ]
  },
  {
   "cell_type": "code",
   "execution_count": 9,
   "metadata": {},
   "outputs": [
    {
     "data": {
      "text/plain": [
       "3"
      ]
     },
     "execution_count": 9,
     "metadata": {},
     "output_type": "execute_result"
    }
   ],
   "source": [
    "#Return the \"centered\" average of an array of ints,except ignoring the largest and smallest values in the array.\n",
    "#If there are multiple copies of the smallest/largest value, ignore just one copy, and Use int division to produce the final\n",
    "#average. You may assume that the array is length 3 or more\n",
    "\n",
    "def centered_average(nums):\n",
    "    sorted(nums)\n",
    "    flag=flag1=sum=0\n",
    "    lnums=len(nums)-2\n",
    "    \n",
    "    for i in nums:\n",
    "        if i== max(nums) and flag==0:\n",
    "            flag=1\n",
    "            continue\n",
    "        elif i== min(nums) and flag1==0:\n",
    "            flag1 =1\n",
    "            continue\n",
    "        else:\n",
    "            sum=sum+i\n",
    "\n",
    "    avg=sum/lnums\n",
    "    return int(avg)\n",
    "\n",
    "centered_average([1, 2, 3, 4, 100])"
   ]
  },
  {
   "cell_type": "markdown",
   "metadata": {},
   "source": [
    "### sum13 Challange Solution | List 2 | CodingBat | Python"
   ]
  },
  {
   "cell_type": "code",
   "execution_count": 12,
   "metadata": {},
   "outputs": [
    {
     "data": {
      "text/plain": [
       "3"
      ]
     },
     "execution_count": 12,
     "metadata": {},
     "output_type": "execute_result"
    }
   ],
   "source": [
    "#Return the sum of the numbers in the array, returning 0 for an empty array. Except the number 13, so it does not count and \n",
    "#number that come immediately after a 13 also do not count.\n",
    "\n",
    "def sum13(nums):\n",
    "    sum=flag=0\n",
    "   \n",
    "    for i in nums:\n",
    "        if i == 13:\n",
    "            flag=1\n",
    "            continue\n",
    "        elif flag==1:\n",
    "            flag=0\n",
    "            continue\n",
    "        else:\n",
    "            sum=sum+i\n",
    "    return sum\n",
    "\n",
    "sum13([13, 1, 2, 13, 2, 1, 13])"
   ]
  },
  {
   "cell_type": "code",
   "execution_count": 11,
   "metadata": {},
   "outputs": [],
   "source": [
    "### sum13 Challange Solution | List 2 | CodingBat | Python"
   ]
  },
  {
   "cell_type": "code",
   "execution_count": null,
   "metadata": {},
   "outputs": [],
   "source": []
  }
 ],
 "metadata": {
  "kernelspec": {
   "display_name": "Python 3",
   "language": "python",
   "name": "python3"
  },
  "language_info": {
   "codemirror_mode": {
    "name": "ipython",
    "version": 3
   },
   "file_extension": ".py",
   "mimetype": "text/x-python",
   "name": "python",
   "nbconvert_exporter": "python",
   "pygments_lexer": "ipython3",
   "version": "3.7.6"
  }
 },
 "nbformat": 4,
 "nbformat_minor": 4
}
