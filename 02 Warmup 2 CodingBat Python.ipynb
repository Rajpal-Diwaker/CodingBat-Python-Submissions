{
 "cells": [
  {
   "cell_type": "markdown",
   "metadata": {},
   "source": [
    "### array123 Challange Solution | Warmup-2 | CodingBat | Python"
   ]
  },
  {
   "cell_type": "code",
   "execution_count": 3,
   "metadata": {},
   "outputs": [
    {
     "data": {
      "text/plain": [
       "True"
      ]
     },
     "execution_count": 3,
     "metadata": {},
     "output_type": "execute_result"
    }
   ],
   "source": [
    "#Given an array of ints, return True if the sequence of numbers 1, 2, 3 appears in the array somewhere.\n",
    "\n",
    "def array123(nums):\n",
    "    for i in range(len(nums)-2):\n",
    "        if nums[i]==1 and nums[i+1]==2 and nums[i+2]==3:\n",
    "            return True\n",
    "    return False\n",
    "\n",
    "array123([1, 1, 2, 3, 1])\n",
    "#array123([1, 1, 2, 4, 1]) → False\n",
    "#array123([1, 1, 2, 1, 2, 3]) → True"
   ]
  },
  {
   "cell_type": "markdown",
   "metadata": {},
   "source": [
    "### front_times Challange Solution | Warmup-2 | CodingBat | Python"
   ]
  },
  {
   "cell_type": "code",
   "execution_count": 1,
   "metadata": {},
   "outputs": [
    {
     "data": {
      "text/plain": [
       "'ChoCho'"
      ]
     },
     "execution_count": 1,
     "metadata": {},
     "output_type": "execute_result"
    }
   ],
   "source": [
    "#Given a string and a non-negative int n,the front of the string is first 3 chars, or whatever is there \n",
    "#if the string is less than length 3. Return n copies of the front\n",
    "\n",
    "def front_times(str, n):\n",
    "    return str[:3]*n\n",
    "\n",
    "front_times('Chocolate', 2)"
   ]
  },
  {
   "cell_type": "markdown",
   "metadata": {},
   "source": [
    "### string_times Challange Solution | Warmup-2 | CodingBat | Python"
   ]
  },
  {
   "cell_type": "code",
   "execution_count": 2,
   "metadata": {},
   "outputs": [
    {
     "data": {
      "text/plain": [
       "'HiHiHi'"
      ]
     },
     "execution_count": 2,
     "metadata": {},
     "output_type": "execute_result"
    }
   ],
   "source": [
    "#Given a string and a non-negative int n, return a larger string that is n copies of the original string.\n",
    "\n",
    "def string_times(str, n):\n",
    "    return str*n\n",
    "    \n",
    "string_times('Hi', 3)"
   ]
  },
  {
   "cell_type": "markdown",
   "metadata": {},
   "source": [
    "### array_count9 Challange Solution | Warmup-2 | CodingBat | Python"
   ]
  },
  {
   "cell_type": "code",
   "execution_count": 4,
   "metadata": {},
   "outputs": [
    {
     "data": {
      "text/plain": [
       "3"
      ]
     },
     "execution_count": 4,
     "metadata": {},
     "output_type": "execute_result"
    }
   ],
   "source": [
    "#Given an array of ints, return the number of 9's in the array.\n",
    "\n",
    "def array_count9(nums):\n",
    "    count =0\n",
    "    \n",
    "    for i in nums:\n",
    "        if i == 9:\n",
    "            count=count+1\n",
    "    return count\n",
    "\n",
    "array_count9([1, 9, 9, 3, 9])\n"
   ]
  },
  {
   "cell_type": "markdown",
   "metadata": {},
   "source": [
    "### string_match Challange Solution | Warmup-2 | CodingBat | Python"
   ]
  },
  {
   "cell_type": "code",
   "execution_count": 1,
   "metadata": {},
   "outputs": [
    {
     "data": {
      "text/plain": [
       "3"
      ]
     },
     "execution_count": 1,
     "metadata": {},
     "output_type": "execute_result"
    }
   ],
   "source": [
    "#Given 2 strings, a and b, return the number of the positions where they contain the same length 2 substring. So \"xxcaazz\" \n",
    "#and \"xxbaaz\" yields 3, since the \"xx\", \"aa\", and \"az\" substrings appear in the same place in both strings.\n",
    "\n",
    "def string_match(a, b):\n",
    "    count=0\n",
    "    short=min(len(a),len(b))\n",
    "\n",
    "    for i in range(short-1):\n",
    "        if a[i:i+2]==b[i:i+2]:\n",
    "            count=count+1\n",
    "\n",
    "    return count\n",
    "\n",
    "string_match('xxcaazz', 'xxbaaz')"
   ]
  },
  {
   "cell_type": "markdown",
   "metadata": {},
   "source": [
    "### string_splosion Challange Solution | Warmup-2 | CodingBat | Python"
   ]
  },
  {
   "cell_type": "code",
   "execution_count": 3,
   "metadata": {},
   "outputs": [
    {
     "data": {
      "text/plain": [
       "'CCoCodCode'"
      ]
     },
     "execution_count": 3,
     "metadata": {},
     "output_type": "execute_result"
    }
   ],
   "source": [
    "#Given a non-empty string like \"Code\" return a string like \"CCoCodCode\"\n",
    "\n",
    "def string_splosion(str):\n",
    "    s=''\n",
    "    for i in range(len(str)):\n",
    "        s=s+str[:i+1]\n",
    "\n",
    "    return s\n",
    "\n",
    "string_splosion('Code')"
   ]
  },
  {
   "cell_type": "markdown",
   "metadata": {},
   "source": [
    "### string_bits Challange Solution | Warmup-2 | CodingBat | Python"
   ]
  },
  {
   "cell_type": "code",
   "execution_count": 4,
   "metadata": {},
   "outputs": [
    {
     "data": {
      "text/plain": [
       "'Hello'"
      ]
     },
     "execution_count": 4,
     "metadata": {},
     "output_type": "execute_result"
    }
   ],
   "source": [
    "#Given a string, return a new string made of every other char starting with the first, so \"Hello\" yields \"Hlo\".\n",
    "\n",
    "def string_bits(str):\n",
    "    s=''\n",
    "    for i in range(len(str)):\n",
    "        if i%2 == 0 :\n",
    "            s=s+str[i]\n",
    "\n",
    "    return s\n",
    "\n",
    "string_bits('Heeololeo') "
   ]
  },
  {
   "cell_type": "markdown",
   "metadata": {},
   "source": [
    "### array_front9 Challange Solution | Warmup-2 | CodingBat | Python"
   ]
  },
  {
   "cell_type": "code",
   "execution_count": 4,
   "metadata": {},
   "outputs": [
    {
     "data": {
      "text/plain": [
       "False"
      ]
     },
     "execution_count": 4,
     "metadata": {},
     "output_type": "execute_result"
    }
   ],
   "source": [
    "#Given an array of ints, return True if one of the first 4 elements in the array is a 9. The array length may be less than 4.\n",
    "\n",
    "def array_front9(nums):\n",
    "    end = len(nums)\n",
    "    if len(nums)> 4:\n",
    "        end = 4\n",
    "\n",
    "    for i in range(end):\n",
    "        if nums[i] == 9:\n",
    "            return True\n",
    "    return False\n",
    "\n",
    "array_front9([1, 2, 3, 4, 9])       "
   ]
  },
  {
   "cell_type": "markdown",
   "metadata": {},
   "source": [
    "### last2 Challange Solution | Warmup-2 | CodingBat | Python"
   ]
  },
  {
   "cell_type": "code",
   "execution_count": 6,
   "metadata": {},
   "outputs": [
    {
     "data": {
      "text/plain": [
       "0"
      ]
     },
     "execution_count": 6,
     "metadata": {},
     "output_type": "execute_result"
    }
   ],
   "source": [
    "#Given a string, return the count of the number of times that a substring length 2 appears in the string and also as the last 2\n",
    "#chars of the string, so \"hixxxhi\" yields 1 (we won't count the end substring).\n",
    "\n",
    "def last2(str):\n",
    "    s=str[-2:]\n",
    "    count=0\n",
    "    for i in range(len(str)-2):\n",
    "        sub=str[i:i+2]\n",
    "    if sub ==s:\n",
    "        count=count+1\n",
    "    return count\n",
    "\n",
    "last2('axxxaaxx')"
   ]
  },
  {
   "cell_type": "code",
   "execution_count": null,
   "metadata": {},
   "outputs": [],
   "source": []
  }
 ],
 "metadata": {
  "kernelspec": {
   "display_name": "Python 3",
   "language": "python",
   "name": "python3"
  },
  "language_info": {
   "codemirror_mode": {
    "name": "ipython",
    "version": 3
   },
   "file_extension": ".py",
   "mimetype": "text/x-python",
   "name": "python",
   "nbconvert_exporter": "python",
   "pygments_lexer": "ipython3",
   "version": "3.7.6"
  }
 },
 "nbformat": 4,
 "nbformat_minor": 4
}
