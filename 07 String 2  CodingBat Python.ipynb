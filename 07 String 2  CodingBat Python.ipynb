{
 "cells": [
  {
   "cell_type": "markdown",
   "metadata": {},
   "source": [
    "### double_char Challange Solution | String-2 | CodingBat | Python"
   ]
  },
  {
   "cell_type": "code",
   "execution_count": 2,
   "metadata": {},
   "outputs": [
    {
     "data": {
      "text/plain": [
       "'TThhee'"
      ]
     },
     "execution_count": 2,
     "metadata": {},
     "output_type": "execute_result"
    }
   ],
   "source": [
    "#Given a string, return a string where for every char in the original, there are two chars.\n",
    "\n",
    "def double_char(str):\n",
    "    return ''.join([x*2 for x in str])\n",
    "\n",
    "double_char('The') "
   ]
  },
  {
   "cell_type": "markdown",
   "metadata": {},
   "source": [
    "### end_other Challange Solution | String-2 | CodingBat | Python"
   ]
  },
  {
   "cell_type": "code",
   "execution_count": 1,
   "metadata": {},
   "outputs": [
    {
     "data": {
      "text/plain": [
       "True"
      ]
     },
     "execution_count": 1,
     "metadata": {},
     "output_type": "execute_result"
    }
   ],
   "source": [
    "#Given 2 strings,return True if either of 2 strings appears at the very end of the other string,ignore upper/lower case diff\n",
    "\n",
    "def end_other(a, b):\n",
    "    a=a.lower()\n",
    "    b=b.lower()\n",
    "\n",
    "    l1=len(b)\n",
    "    l2=len(a)\n",
    "\n",
    "    if a[-l1:]==b:\n",
    "        return True\n",
    "    elif b[-l2:]==a:\n",
    "        return True\n",
    "    else:\n",
    "        return False\n",
    "    \n",
    "end_other('AbC', 'HiaBc')"
   ]
  },
  {
   "cell_type": "markdown",
   "metadata": {},
   "source": [
    "### first_two Challange Solution | String-2 | CodingBat | Python"
   ]
  },
  {
   "cell_type": "code",
   "execution_count": 1,
   "metadata": {},
   "outputs": [
    {
     "data": {
      "text/plain": [
       "2"
      ]
     },
     "execution_count": 1,
     "metadata": {},
     "output_type": "execute_result"
    }
   ],
   "source": [
    "#Return the number of times that the string \"hi\" appears anywhere in the given string.\n",
    "\n",
    "def count_hi(str):\n",
    "    sum = 0\n",
    "    for i in range(len(str)-1):\n",
    "        if str[i:i+2] == 'hi':\n",
    "              sum = sum + 1\n",
    "    return sum\n",
    "\n",
    "count_hi('ABChi hi')"
   ]
  },
  {
   "cell_type": "code",
   "execution_count": null,
   "metadata": {},
   "outputs": [],
   "source": []
  }
 ],
 "metadata": {
  "kernelspec": {
   "display_name": "Python 3",
   "language": "python",
   "name": "python3"
  },
  "language_info": {
   "codemirror_mode": {
    "name": "ipython",
    "version": 3
   },
   "file_extension": ".py",
   "mimetype": "text/x-python",
   "name": "python",
   "nbconvert_exporter": "python",
   "pygments_lexer": "ipython3",
   "version": "3.7.6"
  }
 },
 "nbformat": 4,
 "nbformat_minor": 4
}
