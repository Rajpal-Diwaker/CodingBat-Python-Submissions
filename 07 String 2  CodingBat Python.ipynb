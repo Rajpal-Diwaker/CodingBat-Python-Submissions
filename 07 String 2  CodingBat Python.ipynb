{
 "cells": [
  {
   "cell_type": "markdown",
   "metadata": {},
   "source": [
    "### double_char Challange Solution | String-2 | CodingBat | Python"
   ]
  },
  {
   "cell_type": "code",
   "execution_count": 2,
   "metadata": {},
   "outputs": [
    {
     "data": {
      "text/plain": [
       "'TThhee'"
      ]
     },
     "execution_count": 2,
     "metadata": {},
     "output_type": "execute_result"
    }
   ],
   "source": [
    "#Given a string, return a string where for every char in the original, there are two chars.\n",
    "\n",
    "def double_char(str):\n",
    "    return ''.join([x*2 for x in str])\n",
    "\n",
    "double_char('The') "
   ]
  },
  {
   "cell_type": "markdown",
   "metadata": {},
   "source": [
    "### end_other Challange Solution | String-2 | CodingBat | Python"
   ]
  },
  {
   "cell_type": "code",
   "execution_count": 1,
   "metadata": {},
   "outputs": [
    {
     "data": {
      "text/plain": [
       "True"
      ]
     },
     "execution_count": 1,
     "metadata": {},
     "output_type": "execute_result"
    }
   ],
   "source": [
    "#Given 2 strings,return True if either of 2 strings appears at the very end of the other string,ignore upper/lower case diff\n",
    "\n",
    "def end_other(a, b):\n",
    "    a=a.lower()\n",
    "    b=b.lower()\n",
    "\n",
    "    l1=len(b)\n",
    "    l2=len(a)\n",
    "\n",
    "    if a[-l1:]==b:\n",
    "        return True\n",
    "    elif b[-l2:]==a:\n",
    "        return True\n",
    "    else:\n",
    "        return False\n",
    "    \n",
    "end_other('AbC', 'HiaBc')"
   ]
  },
  {
   "cell_type": "markdown",
   "metadata": {},
   "source": [
    "### count_hi Challange Solution | String-2 | CodingBat | Python"
   ]
  },
  {
   "cell_type": "code",
   "execution_count": 1,
   "metadata": {},
   "outputs": [
    {
     "data": {
      "text/plain": [
       "2"
      ]
     },
     "execution_count": 1,
     "metadata": {},
     "output_type": "execute_result"
    }
   ],
   "source": [
    "#Return the number of times that the string \"hi\" appears anywhere in the given string.\n",
    "\n",
    "def count_hi(str):\n",
    "    sum = 0\n",
    "    for i in range(len(str)-1):\n",
    "        if str[i:i+2] == 'hi':\n",
    "              sum = sum + 1\n",
    "    return sum\n",
    "\n",
    "count_hi('ABChi hi')"
   ]
  },
  {
   "cell_type": "markdown",
   "metadata": {},
   "source": [
    "### xyz_there Challange Solution | String-2 | CodingBat | Python"
   ]
  },
  {
   "cell_type": "code",
   "execution_count": 1,
   "metadata": {},
   "outputs": [
    {
     "name": "stdout",
     "output_type": "stream",
     "text": [
      "False\n",
      "True\n"
     ]
    }
   ],
   "source": [
    "#Return True if the given string contains an appearance of \"xyz\" where the xyz is not directly preceeded by a period (.).\n",
    "#So \"xxyz\" counts but \"x.xyz\" does not.\n",
    "\n",
    "def xyz_there(str):\n",
    "    #counter variable-if u want to count\n",
    "    count=0\n",
    "    flag = False\n",
    "    \n",
    "    for i in range(len(str)-2):\n",
    "        if str[i:i+3]=='xyz' and str[i-1]!='.':\n",
    "            count=count+1\n",
    "            flag = True\n",
    "    #flag will be either True or False. so directly return flag.\n",
    "    return flag\n",
    "  \n",
    "  \n",
    "\n",
    "print(xyz_there('abc.xyz'))\n",
    "print(xyz_there('xyz.abc'))"
   ]
  },
  {
   "cell_type": "markdown",
   "metadata": {},
   "source": [
    "### count_code Challange Solution | String-2 | CodingBat | Python"
   ]
  },
  {
   "cell_type": "code",
   "execution_count": 4,
   "metadata": {},
   "outputs": [
    {
     "name": "stdout",
     "output_type": "stream",
     "text": [
      "2\n"
     ]
    }
   ],
   "source": [
    "#Return the number of times that the string \"code\" appears anywhere in the given string, except we'll accept any letter for \n",
    "#the 'd', so \"cope\" and \"cooe\" count.\n",
    "\n",
    "def count_code(str):\n",
    "    count=0\n",
    "    for i in range(len(str)-3):\n",
    "        if str[i:i+2]=='co' and str[i+3]=='e':\n",
    "            count=count+1\n",
    "    return count\n",
    "\n",
    "  \n",
    "print(count_code('cozexxcope')) "
   ]
  },
  {
   "cell_type": "markdown",
   "metadata": {},
   "source": [
    "### cat_dog Challange Solution | String-2 | CodingBat | Python"
   ]
  },
  {
   "cell_type": "code",
   "execution_count": 6,
   "metadata": {},
   "outputs": [
    {
     "name": "stdout",
     "output_type": "stream",
     "text": [
      "False\n",
      "True\n"
     ]
    }
   ],
   "source": [
    "#Return True if the string \"cat\" and \"dog\" appear the same number of times in the given string.\n",
    "\n",
    "def cat_dog(str):\n",
    "    cat_counter=0\n",
    "    dog_counter=0\n",
    "\n",
    "    for i in range(len(str)-2):\n",
    "        if str[i:i+3]=='cat':\n",
    "            cat_counter=cat_counter+1\n",
    "        if  str[i:i+3]=='dog':\n",
    "            dog_counter=dog_counter+1\n",
    "            \n",
    "    return dog_counter==cat_counter  \n",
    "\n",
    "print(cat_dog('catcat'))\n",
    "print(cat_dog('1cat1cadodog'))"
   ]
  },
  {
   "cell_type": "code",
   "execution_count": null,
   "metadata": {},
   "outputs": [],
   "source": []
  }
 ],
 "metadata": {
  "kernelspec": {
   "display_name": "Python 3",
   "language": "python",
   "name": "python3"
  },
  "language_info": {
   "codemirror_mode": {
    "name": "ipython",
    "version": 3
   },
   "file_extension": ".py",
   "mimetype": "text/x-python",
   "name": "python",
   "nbconvert_exporter": "python",
   "pygments_lexer": "ipython3",
   "version": "3.7.6"
  }
 },
 "nbformat": 4,
 "nbformat_minor": 4
}
